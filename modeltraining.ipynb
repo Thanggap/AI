{
 "cells": [
  {
   "cell_type": "code",
   "execution_count": 54,
   "id": "3b253acd",
   "metadata": {},
   "outputs": [],
   "source": [
    "import pandas as pd\n",
    "import numpy as np\n",
    "from sklearn.model_selection import train_test_split\n",
    "from sklearn.dummy import DummyClassifier\n",
    "from sklearn.svm import SVC\n",
    "from sklearn.metrics import classification_report, accuracy_score, confusion_matrix\n",
    "import matplotlib.pyplot as plt\n",
    "import seaborn as sns\n",
    "import warnings\n",
    "warnings.filterwarnings(\"ignore\")\n"
   ]
  },
  {
   "cell_type": "code",
   "execution_count": 55,
   "id": "a0cc0ac4",
   "metadata": {},
   "outputs": [
    {
     "name": "stdout",
     "output_type": "stream",
     "text": [
      "   Sex  Age  Height  Overweight_Obese_Family  Consumption_of_Fast_Food  \\\n",
      "0    2   18     155                        2                         2   \n",
      "1    2   18     158                        2                         2   \n",
      "2    2   18     159                        2                         2   \n",
      "3    2   18     162                        2                         2   \n",
      "4    2   18     165                        2                         1   \n",
      "\n",
      "   Frequency_of_Consuming_Vegetables  Number_of_Main_Meals_Daily  \\\n",
      "0                                  3                           1   \n",
      "1                                  3                           1   \n",
      "2                                  2                           1   \n",
      "3                                  2                           2   \n",
      "4                                  2                           1   \n",
      "\n",
      "   Food_Intake_Between_Meals  Smoking  Liquid_Intake_Daily  \\\n",
      "0                          3        2                    1   \n",
      "1                          1        2                    1   \n",
      "2                          3        2                    3   \n",
      "3                          2        2                    2   \n",
      "4                          3        2                    1   \n",
      "\n",
      "   Calculation_of_Calorie_Intake  Physical_Excercise  \\\n",
      "0                              2                   3   \n",
      "1                              2                   1   \n",
      "2                              2                   2   \n",
      "3                              2                   1   \n",
      "4                              2                   3   \n",
      "\n",
      "   Schedule_Dedicated_to_Technology  Type_of_Transportation_Used  Class  \n",
      "0                                 3                            4      2  \n",
      "1                                 3                            3      2  \n",
      "2                                 3                            4      2  \n",
      "3                                 3                            4      2  \n",
      "4                                 3                            2      2  \n"
     ]
    }
   ],
   "source": [
    "df = pd.read_excel('DS_Obesity.xlsx')\n",
    "print(df.head())"
   ]
  },
  {
   "cell_type": "code",
   "execution_count": 56,
   "id": "8f4e92cb",
   "metadata": {},
   "outputs": [],
   "source": [
    "import json\n",
    "with open('mapping.json', encoding='utf-8') as f:\n",
    "    mapping = json.load(f)"
   ]
  },
  {
   "cell_type": "code",
   "execution_count": 57,
   "id": "43c5b09d",
   "metadata": {},
   "outputs": [],
   "source": [
    "#Tách đặc trưng\n",
    "X = df.drop(columns=['Class'])  # tất cả các cột trừ 'Class'\n",
    "y = df['Class']                # mục tiêu cần dự đoán\n"
   ]
  },
  {
   "cell_type": "code",
   "execution_count": 58,
   "id": "bb483f76",
   "metadata": {},
   "outputs": [],
   "source": [
    "X_train, X_test, y_train, y_test = train_test_split(X, y, test_size=0.2, random_state=42, stratify=y)\n",
    "# Chia dữ liệu thành tập huấn luyện và tập kiểm tra với tỷ lệ 80-20"
   ]
  },
  {
   "cell_type": "code",
   "execution_count": 59,
   "id": "305eea08",
   "metadata": {},
   "outputs": [],
   "source": [
    "from sklearn.preprocessing import StandardScaler\n",
    "all_columns = X.columns.tolist()\n",
    "scaler = StandardScaler()\n",
    "X_train = scaler.fit_transform(X_train)\n",
    "X_test = scaler.transform(X_test)\n"
   ]
  },
  {
   "cell_type": "code",
   "execution_count": 60,
   "id": "bd32dfa5",
   "metadata": {},
   "outputs": [
    {
     "name": "stdout",
     "output_type": "stream",
     "text": [
      "Dummy Classifier Report:\n",
      "              precision    recall  f1-score   support\n",
      "\n",
      "           1       0.00      0.00      0.00        15\n",
      "           2       0.41      1.00      0.58       132\n",
      "           3       0.00      0.00      0.00       118\n",
      "           4       0.00      0.00      0.00        57\n",
      "\n",
      "    accuracy                           0.41       322\n",
      "   macro avg       0.10      0.25      0.15       322\n",
      "weighted avg       0.17      0.41      0.24       322\n",
      "\n"
     ]
    }
   ],
   "source": [
    "dummy = DummyClassifier(strategy='most_frequent')\n",
    "dummy.fit(X_train, y_train)\n",
    "y_pred_dummy = dummy.predict(X_test)\n",
    "print(\"Dummy Classifier Report:\")\n",
    "print(classification_report(y_test, y_pred_dummy, zero_division=0))\n",
    "\n"
   ]
  },
  {
   "cell_type": "code",
   "execution_count": 61,
   "id": "01d27f48",
   "metadata": {},
   "outputs": [
    {
     "name": "stdout",
     "output_type": "stream",
     "text": [
      "SVC Report:\n",
      "              precision    recall  f1-score   support\n",
      "\n",
      "           1       1.00      0.33      0.50        15\n",
      "           2       0.83      0.91      0.87       132\n",
      "           3       0.76      0.74      0.75       118\n",
      "           4       0.68      0.68      0.68        57\n",
      "\n",
      "    accuracy                           0.78       322\n",
      "   macro avg       0.82      0.67      0.70       322\n",
      "weighted avg       0.78      0.78      0.77       322\n",
      "\n"
     ]
    }
   ],
   "source": [
    "svc = SVC(kernel='rbf', C=1, gamma='scale')  # kernel RBF thường tốt cho dữ liệu phi tuyến\n",
    "svc.fit(X_train, y_train)\n",
    "y_pred_svc = svc.predict(X_test)\n",
    "print(\"SVC Report:\")\n",
    "print(classification_report(y_test, y_pred_svc, zero_division=0))\n"
   ]
  },
  {
   "cell_type": "code",
   "execution_count": 67,
   "id": "7a742973",
   "metadata": {},
   "outputs": [
    {
     "name": "stdout",
     "output_type": "stream",
     "text": [
      "Chọn giá trị cho 'Sex': ['male', 'female']\n",
      "--> Tự động chọn giá trị mặc định: male\n",
      "Chọn giá trị cho 'Age': ['18', '19', '20', '21', '22', '23', '24', '25', '26', '27', '28', '29', '30', '31', '32', '33', '34', '35', '36', '37', '38', '39', '40', '41', '42', '43', '44', '45', '46', '47', '48', '49', '50', '51', '52', '53', '54']\n",
      "--> Tự động chọn giá trị mặc định: 36\n",
      "Chọn giá trị cho 'Height': ['150', '151', '152', '153', '154', '155', '156', '157', '158', '159', '160', '161', '162', '163', '164', '165', '166', '167', '168', '169', '170', '171', '172', '173', '174', '175', '176', '177', '178', '179', '180', '181', '182', '183', '184', '185', '186', '187', '188', '189', '190', '191', '192']\n",
      "--> Tự động chọn giá trị mặc định: 171\n",
      "Chọn giá trị cho 'Overweight/Obese Families': ['yes', 'no']\n",
      "--> Tự động chọn giá trị mặc định: no\n",
      "Chọn giá trị cho 'Consumption of Fast Food': ['yes', 'no']\n",
      "--> Tự động chọn giá trị mặc định: no\n",
      "Chọn giá trị cho 'Frequency of Consuming Vegetables': ['rarely', 'sometimes', 'always']\n",
      "--> Tự động chọn giá trị mặc định: sometimes\n",
      "Chọn giá trị cho 'Number of Main Meals Daily': ['1-2', '3', '3+']\n",
      "--> Tự động chọn giá trị mặc định: 3\n",
      "Chọn giá trị cho 'Food Intake Between Meals': ['rarely', 'sometimes', 'usually', 'always']\n",
      "--> Tự động chọn giá trị mặc định: sometimes\n",
      "Chọn giá trị cho 'Smoking': ['yes', 'no']\n",
      "--> Tự động chọn giá trị mặc định: no\n",
      "Chọn giá trị cho 'Liquid Intake Daily': ['amount smaller than one liter', 'within the range of 1 to 2 liters', 'in excess of 2 liters']\n",
      "--> Tự động chọn giá trị mặc định: within the range of 1 to 2 liters\n",
      "Chọn giá trị cho 'Calculation of Calorie Intake': ['yes', 'no']\n",
      "--> Tự động chọn giá trị mặc định: no\n",
      "Chọn giá trị cho 'Physical Excercise': ['no physical activity', 'in the range of 1-2 days', 'in the range of 3-4 days', 'in the range of 5-6 days', '6+ days']\n",
      "--> Tự động chọn giá trị mặc định: in the range of 3-4 days\n",
      "Chọn giá trị cho 'Schedule Dedicated to Technology': ['between 0 and 2 hours', 'between 3 and 5 hours', 'exceeding five hours']\n",
      "--> Tự động chọn giá trị mặc định: between 3 and 5 hours\n",
      "Chọn giá trị cho 'Type of Transportation Used': ['automobile', 'motorbike', 'bike', 'public transportation', 'walking']\n",
      "--> Tự động chọn giá trị mặc định: bike\n",
      "Kết quả dự đoán (Dummy): 2 - Normal\n",
      "Kết quả dự đoán (SVC): 2 - Normal\n"
     ]
    }
   ],
   "source": [
    "\n",
    "fields = [\n",
    "    \"Sex\", \"Age\", \"Height\", \"Overweight/Obese Families\", \"Consumption of Fast Food\",\n",
    "    \"Frequency of Consuming Vegetables\", \"Number of Main Meals Daily\", \"Food Intake Between Meals\",\n",
    "    \"Smoking\", \"Liquid Intake Daily\", \"Calculation of Calorie Intake\", \"Physical Excercise\",\n",
    "    \"Schedule Dedicated to Technology\", \"Type of Transportation Used\"\n",
    "]\n",
    "default_values = {\n",
    "    \"Sex\": \"Male\",\n",
    "    \"Age\": \"36\",\n",
    "    \"Height\": \"171\",\n",
    "    \"Overweight/Obese Families\": \"No\",\n",
    "    \"Consumption of Fast Food\": \"No\",\n",
    "    \"Frequency of Consuming Vegetables\": \"Sometimes\",\n",
    "    \"Number of Main Meals Daily\": \"3\",\n",
    "    \"Food Intake Between Meals\": \"Sometimes\",\n",
    "    \"Smoking\": \"No\",\n",
    "    \"Liquid Intake Daily\": \"within the range of 1 to 2 liters\",\n",
    "    \"Calculation of Calorie Intake\": \"No\",\n",
    "    \"Physical Excercise\": \"in the range of 3-4 days\",\n",
    "    \"Schedule Dedicated to Technology\": \"between 3 and 5 hours\",\n",
    "    \"Type of Transportation Used\": \"Bike\"\n",
    "}\n",
    "\n",
    "\n",
    "# Hàm đảo ngược mapping cho từng trường\n",
    "def reverse_mapping(field):\n",
    "    if field in mapping:\n",
    "        return {str(v).lower(): int(k) for k, v in mapping[field].items()}\n",
    "    return None\n",
    "\n",
    "input_data = {}\n",
    "for field in fields:\n",
    "    rev_map = reverse_mapping(field)\n",
    "    if rev_map:\n",
    "        print(f\"Chọn giá trị cho '{field}': {list(rev_map.keys())}\")\n",
    "        val = input(f\"Nhập {field}: \").strip().lower()\n",
    "        # Nếu nhập rỗng và có giá trị mặc định thì dùng mặc định\n",
    "        if val == \"\" and field in default_values:\n",
    "            val = str(default_values[field]).strip().lower()\n",
    "            print(f\"--> Tự động chọn giá trị mặc định: {val}\")\n",
    "        while val not in rev_map:\n",
    "            print(\"Giá trị không hợp lệ. Vui lòng nhập lại hoặc để trống để dùng mặc định.\")\n",
    "            val = input(f\"Nhập {field}: \").strip().lower()\n",
    "            if val == \"\" and field in default_values:\n",
    "                val = str(default_values[field]).strip().lower()\n",
    "                print(f\"--> Tự động chọn giá trị mặc định: {val}\")\n",
    "        input_data[field] = [rev_map[val]]\n",
    "    else:\n",
    "        print(f\"Không tìm thấy mapping cho trường {field}, bỏ qua.\")\n",
    "\n",
    "        \n",
    "for col in all_columns:\n",
    "    if col not in input_data:\n",
    "        if col in default_values:\n",
    "            rev_map = reverse_mapping(col)\n",
    "            val = str(default_values[col]).strip().lower()\n",
    "            if rev_map and val in rev_map:\n",
    "                input_data[col] = [rev_map[val]]\n",
    "            else:\n",
    "                input_data[col] = [default_values[col]]\n",
    "        else:\n",
    "            input_data[col] = [0]\n",
    "input_df = pd.DataFrame(input_data)[all_columns]\n",
    "\n",
    "# Dự đoán với DummyClassifier\n",
    "pred = dummy.predict(input_df)[0]\n",
    "class_mapping = mapping[\"Class\"]\n",
    "print(f\"Kết quả dự đoán (Dummy): {pred} - {class_mapping[str(pred)]}\")\n",
    "pred_svc = svc.predict(input_df)[0]\n",
    "print(f\"Kết quả dự đoán (SVC): {pred_svc} - {class_mapping[str(pred_svc)]}\")"
   ]
  },
  {
   "cell_type": "code",
   "execution_count": null,
   "id": "ad1a9f7f",
   "metadata": {},
   "outputs": [],
   "source": [
    "pip install flask"
   ]
  },
  {
   "cell_type": "code",
   "execution_count": null,
   "id": "520ee8f2",
   "metadata": {},
   "outputs": [],
   "source": [
    "pip install flask"
   ]
  },
  {
   "cell_type": "code",
   "execution_count": 66,
   "id": "ad06da02",
   "metadata": {},
   "outputs": [
    {
     "data": {
      "image/png": "[encoded data removed]",
      "text/plain": [
       "<Figure size 1400x600 with 2 Axes>"
      ]
     },
     "metadata": {},
     "output_type": "display_data"
    }
   ],
   "source": [
    "\n",
    "from sklearn.metrics import confusion_matrix\n",
    "\n",
    "dummy_conf = confusion_matrix(y_test, y_pred_dummy)\n",
    "svc_conf = confusion_matrix(y_test, y_pred_svc)\n",
    "labels = ['1', '2', '3', '4']\n",
    "\n",
    "fig, (ax1, ax2) = plt.subplots(1, 2, figsize=(14, 6))\n",
    "\n",
    "sns.heatmap(dummy_conf, annot=True, fmt=\"d\", cmap=\"Blues\", ax=ax1, cbar=False,\n",
    "            xticklabels=labels, yticklabels=labels)\n",
    "ax1.set_title(\"Dummy Classifier - Confusion Matrix\")\n",
    "ax1.set_xlabel(\"Lớp Dự Đoán\")\n",
    "ax1.set_ylabel(\"Lớp Thực Tế\")\n",
    "\n",
    "sns.heatmap(svc_conf, annot=True, fmt=\"d\", cmap=\"Greens\", ax=ax2, cbar=False,\n",
    "            xticklabels=labels, yticklabels=labels)\n",
    "ax2.set_title(\"SVC (RBF) - Confusion Matrix\")\n",
    "ax2.set_xlabel(\"Lớp Dự Đoán\")\n",
    "ax2.set_ylabel(\"Lớp Thực Tế\")\n",
    "\n",
    "plt.tight_layout()\n",
    "plt.show()\n"
   ]
  },
  {
   "cell_type": "markdown",
   "id": "52523053",
   "metadata": {},
   "source": [
    " Dựa vào biểu đồ ma trận so sánh giữa Dummy Classifier và SVC:\n",
    " Accuracy (Độ chính xác):\n",
    "SVC có độ chính xác cao hơn rất nhiều so với Dummy (78% so với 41%).\n",
    "\n",
    " Precision (Độ chính xác theo lớp):\n",
    "Dummy chỉ dự đoán được mỗi lớp 2, precision các lớp khác bằng 0.\n",
    "\n",
    "Trong khi đó, SVC có precision dương ở tất cả các lớp, đặc biệt lớp 1 là 1.00 (tuy mẫu ít), lớp 2 và 3 đều cao.\n",
    "\n",
    " Recall :\n",
    "Dummy đạt recall 1.00 ở lớp 2 vì luôn đoán lớp này, nhưng bằng 0 ở tất cả lớp còn lại.\n",
    "\n",
    "SVC có recall cao và cân đối hơn, giúp mô hình không bị thiên lệch quá nhiều.\n",
    "\n",
    " F1-score (Cân bằng giữa precision và recall):\n",
    "Dummy có F1-score rất thấp (vì chỉ làm tốt mỗi lớp 2).\n",
    "\n",
    "SVC có F1-score cao hơn ở hầu hết các lớp, cho thấy hiệu quả toàn diện hơn.\n",
    "\n",
    " Macro & Weighted Avg:\n",
    "Macro avg của SVC đều vượt trội hơn Dummy (vì tính trung bình đều các lớp).\n",
    "\n",
    "Weighted avg của SVC cũng cao hơn → mô hình tốt hơn kể cả khi xét đến sự mất cân bằng lớp.\n",
    "\n",
    " Kết luận:\n",
    "SVC vượt trội hơn Dummy rõ rệt ở tất cả các chỉ số đánh giá: accuracy, precision, recall, F1-score.\n",
    "→ Điều này cho thấy SVC là lựa chọn phù hợp hơn nhiều cho bài toán phân loại 4 lớp hiện tại, đặc biệt khi dữ liệu có sự mất cân bằng giữa các lớp.\n",
    "\n"
   ]
  },
  {
   "cell_type": "code",
   "execution_count": 65,
   "id": "28a44925",
   "metadata": {},
   "outputs": [
    {
     "data": {
      "image/png": "[encoded data removed]",
      "text/plain": [
       "<Figure size 800x600 with 1 Axes>"
      ]
     },
     "metadata": {},
     "output_type": "display_data"
    }
   ],
   "source": [
    "import matplotlib.pyplot as plt\n",
    "import seaborn as sns\n",
    "from sklearn.metrics import confusion_matrix\n",
    "import numpy as np\n",
    "\n",
    "# Nhãn thật từ tập test\n",
    "y_test = [1]*15 + [2]*132 + [3]*118 + [4]*57\n",
    "\n",
    "# Dự đoán từ mô hình SVC (giả lập)\n",
    "y_pred_svc = [1]*5 + [2]*145 + [3]*110 + [4]*62  # Tổng = 322\n",
    "\n",
    "# Tạo confusion matrix\n",
    "labels = [1, 2, 3, 4]\n",
    "cm = confusion_matrix(y_test, y_pred_svc, labels=labels)\n",
    "\n",
    "# Tổng số dự đoán mỗi lớp\n",
    "pred_counts = np.sum(cm, axis=0)\n",
    "\n",
    "# Vẽ biểu đồ\n",
    "plt.figure(figsize=(8, 6))\n",
    "bars = sns.barplot(x=labels, y=pred_counts, palette=\"coolwarm\")\n",
    "\n",
    "# Ghi giá trị trên mỗi cột\n",
    "for bar in bars.patches:\n",
    "    height = bar.get_height()\n",
    "    bars.annotate(f'{int(height)}',\n",
    "                  (bar.get_x() + bar.get_width() / 2, height),\n",
    "                  ha='center', va='bottom', fontsize=12)\n",
    "\n",
    "plt.title(\"Phân bố dự đoán theo từng lớp (SVC)\", fontsize=14)\n",
    "plt.xlabel(\"Lớp dự đoán\", fontsize=12)\n",
    "plt.ylabel(\"Số lượng mẫu\", fontsize=12)\n",
    "plt.xticks(ticks=range(4), labels=[1, 2, 3, 4])\n",
    "plt.tight_layout()\n",
    "plt.show()\n"
   ]
  },
  {
   "cell_type": "code",
   "execution_count": 68,
   "id": "e226992c",
   "metadata": {},
   "outputs": [
    {
     "data": {
      "text/plain": [
       "['scaler.pkl']"
      ]
     },
     "execution_count": 68,
     "metadata": {},
     "output_type": "execute_result"
    }
   ],
   "source": [
    "import joblib\n",
    "joblib.dump(svc, 'svc_model.pkl')\n",
    "joblib.dump(scaler, 'scaler.pkl')"
   ]
  }
 ],
 "metadata": {
  "kernelspec": {
   "display_name": "ai",
   "language": "python",
   "name": "python3"
  },
  "language_info": {
   "codemirror_mode": {
    "name": "ipython",
    "version": 3
   },
   "file_extension": ".py",
   "mimetype": "text/x-python",
   "name": "python",
   "nbconvert_exporter": "python",
   "pygments_lexer": "ipython3",
   "version": "3.12.9"
  }
 },
 "nbformat": 4,
 "nbformat_minor": 5
}
